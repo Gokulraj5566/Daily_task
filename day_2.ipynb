{
 "cells": [
  {
   "cell_type": "code",
   "execution_count": null,
   "id": "ccd2f239-e6b4-44b0-a445-b6d58490cc90",
   "metadata": {},
   "outputs": [],
   "source": [
    "a = 3\n",
    "b = 8\n",
    "c = 9\n",
    "if(a>b & a>c):\n",
    "  print(\"a is greatest\")\n",
    "elif(b>c):\n",
    "  print(\"b is greatest\")\n",
    "else:\n",
    "  print(\"c is greatest\")"
   ]
  }
 ],
 "metadata": {
  "kernelspec": {
   "display_name": "Python 3 (ipykernel)",
   "language": "python",
   "name": "python3"
  },
  "language_info": {
   "codemirror_mode": {
    "name": "ipython",
    "version": 3
   },
   "file_extension": ".py",
   "mimetype": "text/x-python",
   "name": "python",
   "nbconvert_exporter": "python",
   "pygments_lexer": "ipython3",
   "version": "3.13.7"
  }
 },
 "nbformat": 4,
 "nbformat_minor": 5
}
