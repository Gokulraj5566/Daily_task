{
 "cells": [
  {
   "cell_type": "code",
   "execution_count": 12,
   "id": "4bdfa6ae-8187-40d5-9e6d-518596cce544",
   "metadata": {},
   "outputs": [
    {
     "name": "stdout",
     "output_type": "stream",
     "text": [
      "daddys watch\n",
      "sons phone\n"
     ]
    }
   ],
   "source": [
    "#single inheritance\n",
    "class dad():\n",
    "    def watch(self):\n",
    "        print(\"daddys watch\")\n",
    "class son(dad):\n",
    "    def phone(self):\n",
    "        print(\"sons phone\")\n",
    "gokul=son()\n",
    "gokul.watch()\n",
    "gokul.phone()"
   ]
  },
  {
   "cell_type": "code",
   "execution_count": 25,
   "id": "8828cb16-23e9-49c9-9161-41f189864df5",
   "metadata": {},
   "outputs": [
    {
     "name": "stdout",
     "output_type": "stream",
     "text": [
      "name:gugan,attendence:22\n",
      "name:gugan,attendence:22\n",
      "age:90\n"
     ]
    }
   ],
   "source": [
    "#single inheritance\n",
    "class School():\n",
    "    def data(self,name,attendence):\n",
    "        self.name = name\n",
    "        self.attendence= attendence\n",
    "        print(f\"name:{self.name},attendence:{self.attendence}\")\n",
    "class Student(School):\n",
    "    def mark(self,name,attendence,age):\n",
    "        self.data(name,attendence)\n",
    "        self.age= age\n",
    "        print(f\"age:{self.age}\")\n",
    "\n",
    "S1=Student()\n",
    "S1.data(\"gugan\",22)\n",
    "S1.mark(\"gugan\",22,90)"
   ]
  },
  {
   "cell_type": "code",
   "execution_count": null,
   "id": "49ea1698-a8c3-4acd-a1d6-c87b64e7021b",
   "metadata": {},
   "outputs": [],
   "source": [
    "\n",
    "    "
   ]
  },
  {
   "cell_type": "code",
   "execution_count": null,
   "id": "218f8640-409f-483d-8196-8a6cd66b3268",
   "metadata": {},
   "outputs": [],
   "source": []
  }
 ],
 "metadata": {
  "kernelspec": {
   "display_name": "Python 3 (ipykernel)",
   "language": "python",
   "name": "python3"
  },
  "language_info": {
   "codemirror_mode": {
    "name": "ipython",
    "version": 3
   },
   "file_extension": ".py",
   "mimetype": "text/x-python",
   "name": "python",
   "nbconvert_exporter": "python",
   "pygments_lexer": "ipython3",
   "version": "3.13.7"
  }
 },
 "nbformat": 4,
 "nbformat_minor": 5
}
