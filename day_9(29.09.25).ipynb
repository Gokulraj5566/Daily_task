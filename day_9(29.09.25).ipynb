{
 "cells": [
  {
   "cell_type": "code",
   "execution_count": 3,
   "id": "9f40b2dc-1e7c-4ddc-bb89-63e541b63b63",
   "metadata": {},
   "outputs": [
    {
     "name": "stdout",
     "output_type": "stream",
     "text": [
      "Maruthi Swift 2025\n",
      "Bmw x5 2023\n",
      "Hundai i20 2025\n",
      "Toyota Innova 2010\n",
      "Mg Hector 2024\n"
     ]
    }
   ],
   "source": [
    "#create class and store in a list\n",
    "class car:\n",
    "    def __init__(self,make,model,year):\n",
    "        self.make=make\n",
    "        self.model=model\n",
    "        self.year=year\n",
    "    def __str__(self):\n",
    "         return f\"{self.make} {self.model} {self.year}\"\n",
    "\n",
    "car1 = car(\"Maruthi\",\"Swift\",\"2025\")\n",
    "car2 = car(\"Bmw\",\"x5\",\"2023\")\n",
    "car3 = car(\"Hundai\",\"i20\",\"2025\")\n",
    "car4 = car(\"Toyota\",\"Innova\",\"2010\")\n",
    "car5 = car(\"Mg\",\"Hector\",\"2024\")\n",
    "\n",
    "cars = [ car1, car2, car3, car4, car5]\n",
    "for car in cars:\n",
    "    print(car)\n",
    "\n",
    "        "
   ]
  },
  {
   "cell_type": "code",
   "execution_count": null,
   "id": "e4044cef-8423-4bdd-bbc2-818a71409112",
   "metadata": {},
   "outputs": [],
   "source": []
  }
 ],
 "metadata": {
  "kernelspec": {
   "display_name": "Python 3 (ipykernel)",
   "language": "python",
   "name": "python3"
  },
  "language_info": {
   "codemirror_mode": {
    "name": "ipython",
    "version": 3
   },
   "file_extension": ".py",
   "mimetype": "text/x-python",
   "name": "python",
   "nbconvert_exporter": "python",
   "pygments_lexer": "ipython3",
   "version": "3.13.7"
  }
 },
 "nbformat": 4,
 "nbformat_minor": 5
}
