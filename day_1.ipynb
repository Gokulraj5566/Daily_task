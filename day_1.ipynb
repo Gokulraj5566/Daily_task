{
 "cells": [
  {
   "cell_type": "code",
   "execution_count": 1,
   "id": "1ceabbef-0f6d-4081-8495-d4d90c26fbaa",
   "metadata": {},
   "outputs": [
    {
     "name": "stdout",
     "output_type": "stream",
     "text": [
      "addition : 11\n",
      "Sub:  3\n",
      "mult:  28\n",
      "Div : 1.75\n",
      "power:  2401\n",
      "modulus:  3\n",
      "floor division : 1\n"
     ]
    }
   ],
   "source": [
    "#arithmetic operators\n",
    "a = 7\n",
    "b = 4\n",
    "print(\"addition :\",a+b)\n",
    "print(\"Sub: \",a-b)\n",
    "print(\"mult: \",a*b)\n",
    "print(\"Div :\",a/b)\n",
    "print(\"power: \",a**b)\n",
    "print(\"modulus: \",a%b)\n",
    "print(\"floor division :\",a//b)"
   ]
  },
  {
   "cell_type": "code",
   "execution_count": 2,
   "id": "84cef997-6305-4247-8268-f73c489ce5df",
   "metadata": {},
   "outputs": [
    {
     "name": "stdout",
     "output_type": "stream",
     "text": [
      "False\n",
      "True\n",
      "False\n",
      "False\n"
     ]
    }
   ],
   "source": [
    "#logical operators\n",
    "a = True\n",
    "b = False\n",
    "print (a and b)\n",
    "print (a or b)\n",
    "print(not(a or b))\n",
    "print(not (a)or b)\n"
   ]
  },
  {
   "cell_type": "code",
   "execution_count": 3,
   "id": "559d81b3-cf20-4c06-9b6e-3425f82c504e",
   "metadata": {},
   "outputs": [
    {
     "name": "stdout",
     "output_type": "stream",
     "text": [
      "False\n",
      "True\n",
      "False\n",
      "True\n"
     ]
    }
   ],
   "source": [
    "#comparison operators\n",
    "a = 3\n",
    "b = 4\n",
    "print(a == b)\n",
    "print(a <= b)\n",
    "print(a >= b)\n",
    "print(a != b)"
   ]
  },
  {
   "cell_type": "code",
   "execution_count": 4,
   "id": "36532d93-7f65-432c-a3b3-5670fdc7f7c0",
   "metadata": {},
   "outputs": [
    {
     "name": "stdout",
     "output_type": "stream",
     "text": [
      "False\n",
      "True\n"
     ]
    }
   ],
   "source": [
    "#identity operators\n",
    "a=6\n",
    "a=7\n",
    "print(a is b)\n",
    "print(a is not b)"
   ]
  },
  {
   "cell_type": "code",
   "execution_count": 5,
   "id": "3125430b-fc90-40a4-9c9f-add14157578f",
   "metadata": {},
   "outputs": [
    {
     "name": "stdout",
     "output_type": "stream",
     "text": [
      "True\n",
      "False\n",
      "True\n"
     ]
    }
   ],
   "source": [
    "#membership operators\n",
    "a=[1,2,3,5]\n",
    "print(2 in a)\n",
    "print(6 in a)\n",
    "print(6 not in a)"
   ]
  },
  {
   "cell_type": "code",
   "execution_count": 6,
   "id": "152f873f-922b-403e-8516-7e859271d029",
   "metadata": {},
   "outputs": [
    {
     "name": "stdout",
     "output_type": "stream",
     "text": [
      "1\n",
      "7\n",
      "4\n",
      "0\n"
     ]
    }
   ],
   "source": [
    "#bitwise operator\n",
    "a = True\n",
    "b = 7\n",
    "print(a & b)\n",
    "print(a | b)\n",
    "print(a << 2)\n",
    "print(a >> 2)"
   ]
  },
  {
   "cell_type": "code",
   "execution_count": 7,
   "id": "e365fc88-b3c7-4341-b15a-224ec9874fe0",
   "metadata": {},
   "outputs": [
    {
     "name": "stdout",
     "output_type": "stream",
     "text": [
      "0\n",
      "1\n"
     ]
    }
   ],
   "source": [
    "#boolean operators\n",
    "a=1\n",
    "b=0\n",
    "print(a and b)\n",
    "print(a or b)"
   ]
  },
  {
   "cell_type": "code",
   "execution_count": 8,
   "id": "5ecb46af-08b4-418d-9364-a1e57280f598",
   "metadata": {},
   "outputs": [
    {
     "name": "stdout",
     "output_type": "stream",
     "text": [
      "2\n",
      "1\n"
     ]
    }
   ],
   "source": [
    "#assignment operators \n",
    "a = 1\n",
    "b = 3\n",
    "a += 1\n",
    "b-= 2\n",
    "print(a)\n",
    "print(b)"
   ]
  },
  {
   "cell_type": "code",
   "execution_count": null,
   "id": "28e977c6-56f5-468e-abbf-9f7fcfed19f8",
   "metadata": {},
   "outputs": [],
   "source": []
  }
 ],
 "metadata": {
  "kernelspec": {
   "display_name": "Python 3 (ipykernel)",
   "language": "python",
   "name": "python3"
  },
  "language_info": {
   "codemirror_mode": {
    "name": "ipython",
    "version": 3
   },
   "file_extension": ".py",
   "mimetype": "text/x-python",
   "name": "python",
   "nbconvert_exporter": "python",
   "pygments_lexer": "ipython3",
   "version": "3.13.7"
  }
 },
 "nbformat": 4,
 "nbformat_minor": 5
}
