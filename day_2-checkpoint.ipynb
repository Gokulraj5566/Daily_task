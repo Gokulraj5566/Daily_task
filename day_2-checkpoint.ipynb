{
 "cells": [
  {
   "cell_type": "code",
   "execution_count": null,
   "id": "ccd2f239-e6b4-44b0-a445-b6d58490cc90",
   "metadata": {},
   "outputs": [],
   "source": [
    "a = 3\n",
    "b = 8\n",
    "c = 9\n",
    "if(a>b & a>c):\n",
    "  print(\"a is greatest\")\n",
    "elif(b>c):\n",
    "  print(\"b is greatest\")\n",
    "else:\n",
    "  print(\"c is greatest\")"
   ]
  },
  {
   "cell_type": "code",
   "execution_count": 7,
   "id": "93d4a7f6-3e43-407c-b65e-0040e083f8cd",
   "metadata": {},
   "outputs": [
    {
     "name": "stdin",
     "output_type": "stream",
     "text": [
      "Enter n:  20\n"
     ]
    },
    {
     "name": "stdout",
     "output_type": "stream",
     "text": [
      "2\n",
      "4\n",
      "6\n",
      "8\n",
      "10\n",
      "12\n",
      "14\n",
      "16\n",
      "18\n",
      "20\n"
     ]
    }
   ],
   "source": [
    "# even numbers\n",
    "n = int(input(\"Enter n: \"))\n",
    "for i in range(1, n+1):\n",
    " if (i%2 == 0):\n",
    "     print(i)\n",
    " \n",
    "\n"
   ]
  },
  {
   "cell_type": "code",
   "execution_count": 19,
   "id": "acf3dfe8-8fee-462e-88e0-1bbc829b91a2",
   "metadata": {},
   "outputs": [
    {
     "name": "stdin",
     "output_type": "stream",
     "text": [
      "enter the number 8\n"
     ]
    },
    {
     "name": "stdout",
     "output_type": "stream",
     "text": [
      "8\n",
      "16\n",
      "24\n",
      "32\n",
      "40\n",
      "48\n",
      "56\n",
      "64\n",
      "72\n",
      "80\n"
     ]
    }
   ],
   "source": [
    "#multiple of table 7\n",
    "n =int(input(\"enter the number\"))\n",
    "c=1\n",
    "while(c<=10):\n",
    "    print(n*c)\n",
    "    c+=1"
   ]
  },
  {
   "cell_type": "code",
   "execution_count": 21,
   "id": "45a84f3f-e77a-4671-ab80-69f6cffa3688",
   "metadata": {},
   "outputs": [
    {
     "name": "stdin",
     "output_type": "stream",
     "text": [
      "enter the number: 123\n"
     ]
    },
    {
     "name": "stdout",
     "output_type": "stream",
     "text": [
      "Sum of digits are 6\n"
     ]
    }
   ],
   "source": [
    "#sum of digit\n",
    "n=int(input(\"enter the number:\"))\n",
    "count = 0\n",
    "while n > 0:\n",
    "    temp = n % 10\n",
    "    count += temp\n",
    "    n = n // 10\n",
    "print(f\"Sum of digits is : {count}\")"
   ]
  },
  {
   "cell_type": "code",
   "execution_count": 24,
   "id": "79940195-4a96-4a09-8014-548f3b31e50c",
   "metadata": {},
   "outputs": [
    {
     "name": "stdin",
     "output_type": "stream",
     "text": [
      " 5\n"
     ]
    },
    {
     "name": "stdout",
     "output_type": "stream",
     "text": [
      "120\n"
     ]
    }
   ],
   "source": [
    "\n",
    "n = int(input()) \n",
    "count = 1 \n",
    "while n > 0: \n",
    "    count *= n \n",
    "    n = n - 1 \n",
    "print(count)"
   ]
  },
  {
   "cell_type": "code",
   "execution_count": null,
   "id": "c0f4df1e-75a8-4908-974d-151b631ea0ea",
   "metadata": {},
   "outputs": [],
   "source": []
  }
 ],
 "metadata": {
  "kernelspec": {
   "display_name": "Python 3 (ipykernel)",
   "language": "python",
   "name": "python3"
  },
  "language_info": {
   "codemirror_mode": {
    "name": "ipython",
    "version": 3
   },
   "file_extension": ".py",
   "mimetype": "text/x-python",
   "name": "python",
   "nbconvert_exporter": "python",
   "pygments_lexer": "ipython3",
   "version": "3.13.7"
  }
 },
 "nbformat": 4,
 "nbformat_minor": 5
}
