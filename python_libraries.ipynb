{
 "cells": [
  {
   "cell_type": "code",
   "execution_count": 23,
   "id": "a9e96a81-b8eb-4e9d-be5b-aaa295f27d85",
   "metadata": {},
   "outputs": [
    {
     "name": "stdout",
     "output_type": "stream",
     "text": [
      "* 0 0 \n",
      "0 * 0 \n",
      "0 0 * \n"
     ]
    }
   ],
   "source": [
    "for i in range(3):\n",
    "    for j in range(3):\n",
    "        if i == j:\n",
    "            print(\"*\", end =\" \")\n",
    "        else:\n",
    "            print(\"0\", end =\" \")\n",
    "    print()\n",
    "        \n",
    "    "
   ]
  },
  {
   "cell_type": "code",
   "execution_count": 39,
   "id": "37feb427-7e60-4d91-ab12-d77ba0621114",
   "metadata": {},
   "outputs": [
    {
     "name": "stdout",
     "output_type": "stream",
     "text": [
      "0.03542050133937693\n"
     ]
    }
   ],
   "source": [
    "import math\n",
    "print(math.tan(88))\n"
   ]
  },
  {
   "cell_type": "code",
   "execution_count": 42,
   "id": "41aac9a6-4295-4b78-a3c1-afa581e448a0",
   "metadata": {},
   "outputs": [
    {
     "name": "stdout",
     "output_type": "stream",
     "text": [
      "2.8284271247461903\n"
     ]
    }
   ],
   "source": [
    "import math\n",
    "print(math.sqrt(8))"
   ]
  },
  {
   "cell_type": "code",
   "execution_count": 49,
   "id": "da1886c4-c37e-46b5-8aa1-675d26ae4b81",
   "metadata": {},
   "outputs": [
    {
     "name": "stdout",
     "output_type": "stream",
     "text": [
      "Mean: {33.75}\n",
      "Median: {35.0}\n",
      "Mode: {50}\n",
      "Variance: {255.35714285714286}\n",
      "Standard Deviation: {15.979898086569353}\n",
      "Median low:  {30}\n",
      "Median high: {40}\n"
     ]
    }
   ],
   "source": [
    "#statistics\n",
    "#mean value\n",
    "import statistics\n",
    "\n",
    "data = [10, 20, 20, 40, 50, 70]\n",
    "# Mean \n",
    "mean_val = statistics.mean(data)\n",
    "print(\"Mean:\",{mean_val})\n",
    "# Median \n",
    "median_val = statistics.median(data)\n",
    "print(\"Median:\", {median_val})\n",
    "# Mode \n",
    "mode_val = statistics.mode(data)\n",
    "print(\"Mode:\", {mode_val})\n",
    "# Variance \n",
    "variance_val = statistics.variance(data)\n",
    "print(\"Variance:\", {variance_val})\n",
    "#Standard deviation \n",
    "stdev_val = statistics.stdev(data)\n",
    "print(\"Standard Deviation:\", {stdev_val})\n",
    "# Median low and high \n",
    "print(\"Median low: \",{statistics.median_low(data)})\n",
    "print(\"Median high:\" ,{statistics.median_high(data)})\n"
   ]
  },
  {
   "cell_type": "code",
   "execution_count": 50,
   "id": "d37a2e92-9ef7-4490-bfc5-867d78ad1828",
   "metadata": {},
   "outputs": [
    {
     "name": "stdout",
     "output_type": "stream",
     "text": [
      "Data: [10, 20, 20, 70]\n",
      "Harmonic Mean: 18.666666666666664\n",
      "Geometric Mean: 23.003266337912056\n",
      "Minimum: 10\n",
      "Maximum: 70\n",
      "Sum: 120\n"
     ]
    }
   ],
   "source": [
    "import statistics\n",
    "data = [10, 20, 20, 70]\n",
    "print(\"Data:\", data)\n",
    "# Harmonic Mean \n",
    "print(\"Harmonic Mean:\", statistics.harmonic_mean(data))\n",
    "# Geometric Mean \n",
    "print(\"Geometric Mean:\", statistics.geometric_mean(data))\n",
    "# min &max value\n",
    "print(\"Minimum:\", min(data))\n",
    "print(\"Maximum:\", max(data))\n",
    "# Sum of all values\n",
    "print(\"Sum:\", sum(data))\n"
   ]
  },
  {
   "cell_type": "code",
   "execution_count": 66,
   "id": "14b6ad9a-0614-4758-ab77-3ea8c6dd4459",
   "metadata": {},
   "outputs": [
    {
     "name": "stdout",
     "output_type": "stream",
     "text": [
      "10\n",
      "20\n"
     ]
    }
   ],
   "source": [
    "class Student:\n",
    "    def __init__(self, name, age):\n",
    "        self._name = name\n",
    "        self.__age = age\n",
    "        \n",
    "    def get_age(self):\n",
    "        return self.__age\n",
    "        \n",
    "    def set_age(self, age):\n",
    "        self.__age = age\n",
    "        \n",
    "    # def del_age(self):\n",
    "    #     del self.__age\n",
    "        \n",
    "    # def name_prop(self):\n",
    "    #     return f\"New Age is {self.__age}\"\n",
    "        \n",
    "     # age = property(get_age, set_age, del_age)\n",
    "    \n",
    "s = Student(\"gokul\", \"10\")\n",
    "print(s.get_age())\n",
    "s.set_age(\"20\")\n",
    "print(s.get_age())\n",
    "# print(s.name_prop())\n",
    "# del s.age\n"
   ]
  },
  {
   "cell_type": "code",
   "execution_count": null,
   "id": "2af796cf-f730-4edc-8add-260fcdf184bc",
   "metadata": {},
   "outputs": [],
   "source": []
  }
 ],
 "metadata": {
  "kernelspec": {
   "display_name": "Python 3 (ipykernel)",
   "language": "python",
   "name": "python3"
  },
  "language_info": {
   "codemirror_mode": {
    "name": "ipython",
    "version": 3
   },
   "file_extension": ".py",
   "mimetype": "text/x-python",
   "name": "python",
   "nbconvert_exporter": "python",
   "pygments_lexer": "ipython3",
   "version": "3.13.7"
  }
 },
 "nbformat": 4,
 "nbformat_minor": 5
}
