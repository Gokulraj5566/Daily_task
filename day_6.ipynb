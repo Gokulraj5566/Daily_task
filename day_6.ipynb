{
 "cells": [
  {
   "cell_type": "code",
   "execution_count": 9,
   "id": "a40df291-d94d-45fb-8234-1c7ac64da8a6",
   "metadata": {},
   "outputs": [
    {
     "name": "stdout",
     "output_type": "stream",
     "text": [
      "classification dictionary : {20: 'even', 30: 'even', 90: 'even', 70: 'even', 79: 'odd'}\n",
      "unique numbers set : {70, 45, 79, 20, 90, 30}\n",
      "sorted tuple : (20, 30, 45, 70, 79, 90)\n"
     ]
    }
   ],
   "source": [
    "numbers =[20, 30, 45, 90, 30, 70, 79]\n",
    "classification = {}\n",
    "for num in numbers:\n",
    "    if num % 2 ==0:\n",
    "        classification[num] = \"even\"\n",
    "else:\n",
    "        classification[num] = \"odd\" \n",
    "unique_numbers = set(numbers)\n",
    "sorted_tuple = tuple(sorted(unique_numbers))\n",
    "print(\"classification dictionary :\",classification)\n",
    "print(\"unique numbers set :\",unique_numbers)\n",
    "print(\"sorted tuple :\",sorted_tuple)"
   ]
  },
  {
   "cell_type": "code",
   "execution_count": null,
   "id": "489d4687-6b30-4d04-ac9a-c91eb2609db4",
   "metadata": {},
   "outputs": [],
   "source": []
  }
 ],
 "metadata": {
  "kernelspec": {
   "display_name": "Python 3 (ipykernel)",
   "language": "python",
   "name": "python3"
  },
  "language_info": {
   "codemirror_mode": {
    "name": "ipython",
    "version": 3
   },
   "file_extension": ".py",
   "mimetype": "text/x-python",
   "name": "python",
   "nbconvert_exporter": "python",
   "pygments_lexer": "ipython3",
   "version": "3.13.7"
  }
 },
 "nbformat": 4,
 "nbformat_minor": 5
}
