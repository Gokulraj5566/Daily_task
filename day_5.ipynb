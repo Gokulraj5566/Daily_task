{
 "cells": [
  {
   "cell_type": "code",
   "execution_count": 34,
   "id": "aa669d64-8cd0-4dec-982f-033f2b018dff",
   "metadata": {},
   "outputs": [
    {
     "name": "stdin",
     "output_type": "stream",
     "text": [
      "enter the number: 0\n",
      "enter the another number: 3\n"
     ]
    },
    {
     "name": "stdout",
     "output_type": "stream",
     "text": [
      "\n",
      "arthmetic operator\n",
      "add : 3\n",
      "sub : -3\n",
      "multiply : 0\n",
      "division : 0.0\n",
      "floor div : 0\n",
      "modulus : 0\n",
      "power : 0\n",
      "\n",
      "relational operator\n",
      "equal to : False\n",
      "not equal to : True\n",
      "less than : True\n",
      "greater than : False\n",
      "less than equal to : True\n",
      "greater than equal to : False\n",
      "\n",
      "logical operator\n",
      "and operator : 0\n",
      "or operator : 3\n",
      "not operator : True\n",
      "not operator : False\n"
     ]
    }
   ],
   "source": [
    "a=int(input(\"enter the number:\"))\n",
    "b=int(input(\"enter the another number:\"))\n",
    "\n",
    "print(\"\\narthmetic operator\")\n",
    "print(\"add :\",a+b)\n",
    "print(\"sub :\",a-b)\n",
    "print (\"multiply :\",a*b)\n",
    "print(\"division :\",a/b)\n",
    "print(\"floor div :\",a//b)\n",
    "print(\"modulus :\",a%b)\n",
    "print(\"power :\",a**b)\n",
    "\n",
    "print(\"\\nrelational operator\")\n",
    "print(\"equal to :\",a==b)\n",
    "print(\"not equal to :\",a!=b)\n",
    "print(\"less than :\",a<b)\n",
    "print(\"greater than :\",a>b)\n",
    "print(\"less than equal to :\",a<=b)\n",
    "print(\"greater than equal to :\",a>=b)\n",
    "\n",
    "print(\"\\nlogical operator\")\n",
    "print(\"and operator :\",a and b)\n",
    "print(\"or operator :\",a or b)\n",
    "print(\"not operator :\",not(a) )\n",
    "print(\"not operator :\",not(b) )\n",
    "\n"
   ]
  },
  {
   "cell_type": "code",
   "execution_count": null,
   "id": "db81fe87-39f9-445c-bb3e-6525e5aa83a9",
   "metadata": {},
   "outputs": [],
   "source": []
  },
  {
   "cell_type": "code",
   "execution_count": null,
   "id": "8eb24ec9-96a9-4a68-a599-785bc12ece25",
   "metadata": {},
   "outputs": [],
   "source": []
  },
  {
   "cell_type": "code",
   "execution_count": null,
   "id": "4d5a4cd1-c3b2-4175-b329-d0b8384c2296",
   "metadata": {},
   "outputs": [],
   "source": []
  }
 ],
 "metadata": {
  "kernelspec": {
   "display_name": "Python 3 (ipykernel)",
   "language": "python",
   "name": "python3"
  },
  "language_info": {
   "codemirror_mode": {
    "name": "ipython",
    "version": 3
   },
   "file_extension": ".py",
   "mimetype": "text/x-python",
   "name": "python",
   "nbconvert_exporter": "python",
   "pygments_lexer": "ipython3",
   "version": "3.13.7"
  }
 },
 "nbformat": 4,
 "nbformat_minor": 5
}
