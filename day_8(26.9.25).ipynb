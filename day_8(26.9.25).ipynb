{
 "cells": [
  {
   "cell_type": "code",
   "execution_count": 16,
   "id": "8efd42a9-6e9b-47ec-8d09-231cc21fdae4",
   "metadata": {},
   "outputs": [
    {
     "name": "stdout",
     "output_type": "stream",
     "text": [
      "True\n",
      "False\n"
     ]
    }
   ],
   "source": [
    "#create class and delete class\n",
    "class Dog:\n",
    "    def __init__(self,breed,age):\n",
    "        self.breed = breed\n",
    "        self.age = age\n",
    "d1 = Dog(\"bulldog\",\"5\")\n",
    "delattr(d1,\"age\")\n",
    "print(hasattr(d1,\"breed\"))\n",
    "print(hasattr(d1,\"age\"))"
   ]
  },
  {
   "cell_type": "code",
   "execution_count": 20,
   "id": "f9637ec1-3559-492b-8f69-0807d7ff011c",
   "metadata": {},
   "outputs": [
    {
     "name": "stdout",
     "output_type": "stream",
     "text": [
      "True\n"
     ]
    }
   ],
   "source": [
    "#create class and check object has attribute\n",
    "class Laptop:\n",
    "    def __init__(self,brand):\n",
    "        self.brand=brand\n",
    "l1=Laptop(\"hp\")\n",
    "l2=Laptop(\"lenova\")\n",
    "print(hasattr(l1,\"brand\"))"
   ]
  },
  {
   "cell_type": "code",
   "execution_count": 46,
   "id": "6b070b12-dccf-4760-8ff2-68f3bb064b84",
   "metadata": {},
   "outputs": [
    {
     "name": "stdout",
     "output_type": "stream",
     "text": [
      "org color green\n",
      "update blue\n"
     ]
    }
   ],
   "source": [
    "class Car:\n",
    "    def __init__(self,color):\n",
    "        self.color = color\n",
    "car1=Car(\"green\")\n",
    "print(\"org color\",car1.color)\n",
    "setattr(car1, \"color\", \"blue\")\n",
    "print(\"update\",car1.color)\n"
   ]
  },
  {
   "cell_type": "code",
   "execution_count": null,
   "id": "fb0a0a52-9769-4cb4-a1fe-8ff69b1468a2",
   "metadata": {},
   "outputs": [],
   "source": []
  }
 ],
 "metadata": {
  "kernelspec": {
   "display_name": "Python 3 (ipykernel)",
   "language": "python",
   "name": "python3"
  },
  "language_info": {
   "codemirror_mode": {
    "name": "ipython",
    "version": 3
   },
   "file_extension": ".py",
   "mimetype": "text/x-python",
   "name": "python",
   "nbconvert_exporter": "python",
   "pygments_lexer": "ipython3",
   "version": "3.13.7"
  }
 },
 "nbformat": 4,
 "nbformat_minor": 5
}
