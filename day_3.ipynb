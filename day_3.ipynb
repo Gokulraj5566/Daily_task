{
 "cells": [
  {
   "cell_type": "code",
   "execution_count": null,
   "id": "27b30ff5-6a66-416f-9ba0-86ffac35d8ea",
   "metadata": {},
   "outputs": [],
   "source": [
    "#match case\n",
    "try:\n",
    "    m=int(input())\n",
    "    for i in range(0,101):\n",
    "        if m==i:\n",
    "            break\n",
    "    else:\n",
    "        print(\"the mark must be between 0 and 100.\")\n",
    "        exit()\n",
    "    \n",
    "            \n",
    "    \n",
    "        "
   ]
  },
  {
   "cell_type": "code",
   "execution_count": 3,
   "id": "b5f581c7-d093-4241-a7f0-846f9f6b080e",
   "metadata": {},
   "outputs": [
    {
     "name": "stdin",
     "output_type": "stream",
     "text": [
      " 87\n"
     ]
    },
    {
     "name": "stdout",
     "output_type": "stream",
     "text": [
      "Grade: B\n"
     ]
    }
   ],
   "source": [
    "\n",
    "try:\n",
    "    marks = int(input())   \n",
    "    \n",
    "    for i in range(0, 101):   \n",
    "        if marks == i:\n",
    "            break\n",
    "    else:\n",
    "        print(\"0 to 100\")\n",
    "        exit()   \n",
    "\n",
    "    match marks:\n",
    "        case m if m >= 90 and m <= 100:   \n",
    "            print(\"Grade: A \")\n",
    "        case m if m >= 75 and m < 90:\n",
    "            print(\"Grade: B\")\n",
    "        case m if m >= 60 and m < 75:\n",
    "            print(\"Grade: C\")\n",
    "        case m if m >= 40 and m < 60:\n",
    "            print(\"Grade: D \")\n",
    "        case m if m >= 0 and m < 40:\n",
    "            print(\"Grade: F \")\n",
    "        case _:\n",
    "            print(\"Invalid\")\n",
    "\n",
    "except :\n",
    "    print(\"Invalid \")\n"
   ]
  },
  {
   "cell_type": "code",
   "execution_count": null,
   "id": "5194fe0b-6c4e-4282-8a9f-69e73b53f8f8",
   "metadata": {},
   "outputs": [],
   "source": []
  }
 ],
 "metadata": {
  "kernelspec": {
   "display_name": "Python 3 (ipykernel)",
   "language": "python",
   "name": "python3"
  },
  "language_info": {
   "codemirror_mode": {
    "name": "ipython",
    "version": 3
   },
   "file_extension": ".py",
   "mimetype": "text/x-python",
   "name": "python",
   "nbconvert_exporter": "python",
   "pygments_lexer": "ipython3",
   "version": "3.13.7"
  }
 },
 "nbformat": 4,
 "nbformat_minor": 5
}
