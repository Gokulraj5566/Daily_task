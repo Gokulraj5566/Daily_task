{
 "cells": [
  {
   "cell_type": "code",
   "execution_count": 3,
   "id": "054aae83-2aab-467f-91f2-d0fd33592b29",
   "metadata": {},
   "outputs": [
    {
     "name": "stdout",
     "output_type": "stream",
     "text": [
      "[99, 76, 66, 55, 30, 40, 50, 60, 88]\n"
     ]
    }
   ],
   "source": [
    "class dog:\n",
    "    def bark(self):\n",
    "        print(\"dog barks loudly\")\n",
    "    def sleep(self):\n",
    "        print(\"dog sleeps\")"
   ]
  },
  {
   "cell_type": "code",
   "execution_count": null,
   "id": "da8d9c21-4453-4d38-8c0f-7180b352a657",
   "metadata": {},
   "outputs": [],
   "source": []
  }
 ],
 "metadata": {
  "kernelspec": {
   "display_name": "Python 3 (ipykernel)",
   "language": "python",
   "name": "python3"
  },
  "language_info": {
   "codemirror_mode": {
    "name": "ipython",
    "version": 3
   },
   "file_extension": ".py",
   "mimetype": "text/x-python",
   "name": "python",
   "nbconvert_exporter": "python",
   "pygments_lexer": "ipython3",
   "version": "3.13.7"
  }
 },
 "nbformat": 4,
 "nbformat_minor": 5
}
